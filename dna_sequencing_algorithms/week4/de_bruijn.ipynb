{
 "cells": [
  {
   "cell_type": "code",
   "execution_count": 4,
   "metadata": {},
   "outputs": [],
   "source": [
    "def create_debruijn(string, k):\n",
    "    \"\"\"Creates a list holding, for each k-mer, its prefix amnd suffix\n",
    "    k-1 mer in a pair.\"\"\"\n",
    "    edges = []\n",
    "    nodes = set()\n",
    "    for i in range(len(string)-k+1):\n",
    "        edges.append((string[i:i+k-1], string[i+1:i+k]))\n",
    "        nodes.add(string[i:i+k-1])\n",
    "        nodes.add(string[i+1:i+k])\n",
    "    return nodes, edges"
   ]
  },
  {
   "cell_type": "code",
   "execution_count": 5,
   "metadata": {},
   "outputs": [
    {
     "name": "stdout",
     "output_type": "stream",
     "text": [
      "{'GT', 'GC', 'TC', 'AC', 'CG'}\n",
      "[('AC', 'CG'), ('CG', 'GC'), ('GC', 'CG'), ('CG', 'GT'), ('GT', 'TC'), ('TC', 'CG')]\n"
     ]
    }
   ],
   "source": [
    "nodes, edges = create_debruijn(\"ACGCGTCG\", 3)\n",
    "print(nodes)\n",
    "print(edges)\n"
   ]
  },
  {
   "cell_type": "code",
   "execution_count": 9,
   "metadata": {},
   "outputs": [],
   "source": [
    "def debruijn_graph_visualization(string, k):\n",
    "    \"\"\"Visualize a directed multigraph using graphviz.\"\"\"\n",
    "    nodes, edges = create_debruijn(string, k)\n",
    "    dot_str = 'digraph \"DeBruijn graph\" {\\n'\n",
    "    for node in nodes:\n",
    "        dot_str += '  %s [label=\"%s\"] ;\\n' % (node, node)\n",
    "    for prefix, suffix in edges:\n",
    "        dot_str += '  %s -> %s ;\\n' % (prefix, suffix)\n",
    "    return dot_str + '}\\n'"
   ]
  },
  {
   "cell_type": "code",
   "execution_count": 10,
   "metadata": {},
   "outputs": [
    {
     "name": "stdout",
     "output_type": "stream",
     "text": [
      "The gvmagic extension is already loaded. To reload it, use:\n",
      "  %reload_ext gvmagic\n"
     ]
    },
    {
     "data": {
      "image/svg+xml": "<svg xmlns=\"http://www.w3.org/2000/svg\" xmlns:xlink=\"http://www.w3.org/1999/xlink\" width=\"172pt\" height=\"260pt\" viewBox=\"0.00 0.00 172.00 260.00\">\n<g id=\"graph0\" class=\"graph\" transform=\"scale(1 1) rotate(0) translate(4 256)\">\n<title>DeBruijn graph</title>\n<polygon fill=\"white\" stroke=\"transparent\" points=\"-4,4 -4,-256 168,-256 168,4 -4,4\"/>\n<!-- GT -->\n<g id=\"node1\" class=\"node\">\n<title>GT</title>\n<ellipse fill=\"none\" stroke=\"black\" cx=\"54\" cy=\"-234\" rx=\"27\" ry=\"18\"/>\n<text text-anchor=\"middle\" x=\"54\" y=\"-230.3\" font-family=\"Times New Roman,serif\" font-size=\"14.00\">GT</text>\n</g>\n<!-- TC -->\n<g id=\"node3\" class=\"node\">\n<title>TC</title>\n<ellipse fill=\"none\" stroke=\"black\" cx=\"27\" cy=\"-162\" rx=\"27\" ry=\"18\"/>\n<text text-anchor=\"middle\" x=\"27\" y=\"-158.3\" font-family=\"Times New Roman,serif\" font-size=\"14.00\">TC</text>\n</g>\n<!-- GT&#45;&gt;TC -->\n<g id=\"edge5\" class=\"edge\">\n<title>GT-&gt;TC</title>\n<path fill=\"none\" stroke=\"black\" d=\"M47.6,-216.41C44.49,-208.34 40.67,-198.43 37.17,-189.35\"/>\n<polygon fill=\"black\" stroke=\"black\" points=\"40.4,-188.03 33.54,-179.96 33.87,-190.55 40.4,-188.03\"/>\n</g>\n<!-- GC -->\n<g id=\"node2\" class=\"node\">\n<title>GC</title>\n<ellipse fill=\"none\" stroke=\"black\" cx=\"82\" cy=\"-18\" rx=\"27\" ry=\"18\"/>\n<text text-anchor=\"middle\" x=\"82\" y=\"-14.3\" font-family=\"Times New Roman,serif\" font-size=\"14.00\">GC</text>\n</g>\n<!-- CG -->\n<g id=\"node5\" class=\"node\">\n<title>CG</title>\n<ellipse fill=\"none\" stroke=\"black\" cx=\"82\" cy=\"-90\" rx=\"27\" ry=\"18\"/>\n<text text-anchor=\"middle\" x=\"82\" y=\"-86.3\" font-family=\"Times New Roman,serif\" font-size=\"14.00\">CG</text>\n</g>\n<!-- GC&#45;&gt;CG -->\n<g id=\"edge3\" class=\"edge\">\n<title>GC-&gt;CG</title>\n<path fill=\"none\" stroke=\"black\" d=\"M87.88,-35.96C88.71,-43.83 88.95,-53.37 88.58,-62.19\"/>\n<polygon fill=\"black\" stroke=\"black\" points=\"85.07,-62.18 87.84,-72.41 92.06,-62.69 85.07,-62.18\"/>\n</g>\n<!-- TC&#45;&gt;CG -->\n<g id=\"edge6\" class=\"edge\">\n<title>TC-&gt;CG</title>\n<path fill=\"none\" stroke=\"black\" d=\"M38.93,-145.81C46.21,-136.55 55.66,-124.52 63.85,-114.09\"/>\n<polygon fill=\"black\" stroke=\"black\" points=\"66.66,-116.18 70.09,-106.16 61.16,-111.86 66.66,-116.18\"/>\n</g>\n<!-- AC -->\n<g id=\"node4\" class=\"node\">\n<title>AC</title>\n<ellipse fill=\"none\" stroke=\"black\" cx=\"137\" cy=\"-162\" rx=\"27\" ry=\"18\"/>\n<text text-anchor=\"middle\" x=\"137\" y=\"-158.3\" font-family=\"Times New Roman,serif\" font-size=\"14.00\">AC</text>\n</g>\n<!-- AC&#45;&gt;CG -->\n<g id=\"edge1\" class=\"edge\">\n<title>AC-&gt;CG</title>\n<path fill=\"none\" stroke=\"black\" d=\"M125.07,-145.81C117.79,-136.55 108.34,-124.52 100.15,-114.09\"/>\n<polygon fill=\"black\" stroke=\"black\" points=\"102.84,-111.86 93.91,-106.16 97.34,-116.18 102.84,-111.86\"/>\n</g>\n<!-- CG&#45;&gt;GT -->\n<g id=\"edge4\" class=\"edge\">\n<title>CG-&gt;GT</title>\n<path fill=\"none\" stroke=\"black\" d=\"M78.61,-108.19C73.81,-132.53 64.99,-177.28 59.31,-206.06\"/>\n<polygon fill=\"black\" stroke=\"black\" points=\"55.88,-205.38 57.38,-215.87 62.75,-206.74 55.88,-205.38\"/>\n</g>\n<!-- CG&#45;&gt;GC -->\n<g id=\"edge2\" class=\"edge\">\n<title>CG-&gt;GC</title>\n<path fill=\"none\" stroke=\"black\" d=\"M76.16,-72.41C75.3,-64.51 75.05,-54.85 75.41,-45.94\"/>\n<polygon fill=\"black\" stroke=\"black\" points=\"78.9,-46.18 76.12,-35.96 71.92,-45.68 78.9,-46.18\"/>\n</g>\n</g>\n</svg>",
      "text/plain": [
       "<IPython.core.display.SVG object>"
      ]
     },
     "metadata": {},
     "output_type": "display_data"
    }
   ],
   "source": [
    "import os\n",
    "\n",
    "os.environ[\"PATH\"] += os.pathsep + 'C:/Program Files/Graphviz/bin'\n",
    "\n",
    "%load_ext gvmagic\n",
    "\n",
    "dbg = debruijn_graph_visualization('ACGCGTCG', 3)\n",
    "\n",
    "%dotstr dbg\n"
   ]
  }
 ],
 "metadata": {
  "interpreter": {
   "hash": "380030d1298d5a27518acca789ff38fe82bbf2e68b73263de6a6bf23efb7704c"
  },
  "kernelspec": {
   "display_name": "Python 3.8.8 64-bit ('base': conda)",
   "language": "python",
   "name": "python3"
  },
  "language_info": {
   "codemirror_mode": {
    "name": "ipython",
    "version": 3
   },
   "file_extension": ".py",
   "mimetype": "text/x-python",
   "name": "python",
   "nbconvert_exporter": "python",
   "pygments_lexer": "ipython3",
   "version": "3.8.8"
  },
  "orig_nbformat": 4
 },
 "nbformat": 4,
 "nbformat_minor": 2
}
